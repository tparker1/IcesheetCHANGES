{
 "cells": [
  {
   "attachments": {},
   "cell_type": "markdown",
   "metadata": {},
   "source": [
    "# Download MEaSUREs Greenland Quarterly Ice Sheet Monthly Mosaics from SAR and Landsat V005\n",
    "\n",
    "Short Name/Collection Key: Greenland Quarterly Velocity\n",
    "\n",
    "Collection ID: C2627046644-NSIDC_ECS\n",
    "\n",
    "Sources:\n",
    "https://nsidc.org/data/nsidc-0731/versions/5\n",
    "\n",
    "https://search.earthdata.nasa.gov/search?q=NSIDC-0731+V005"
   ]
  },
  {
   "cell_type": "code",
   "execution_count": 1,
   "metadata": {},
   "outputs": [],
   "source": [
    "import toolbox.IcesheetCHANGES as changes\n",
    "import toolbox.collection as collection\n",
    "import toolbox.download as download"
   ]
  },
  {
   "attachments": {},
   "cell_type": "markdown",
   "metadata": {},
   "source": [
    "## Set options\n",
    "\n",
    "First, set collections key for desired data set from NASA EarthData and set the region name.\n",
    "For the collection ID, set collections_key using the dictionary below, or use the following instructions to add a new collection to the dictionary. \n",
    "\n",
    "Example: Getting a collection ID from EarthData Search: \n",
    "[MEaSUREs Annual Antarctic Ice Velocity Maps V001](https://search.earthdata.nasa.gov/search/granules/collection-details?p=C2245171699-NSIDC_ECS&pg[0][v]=f&pg[0][gsk]=-start_date&q=NSIDC-0720%20V001&tl=1686700071.247!3!!)\n",
    "\n",
    "While viewing the collection on EarthData, as in the above link, follow \"View More Info\" to visit the CMR page for the collection.\n",
    "Then, look for the collections ID in the URL or as a tag below the title. \n",
    "\n",
    "![Locating Collection ID from CMR page](getting_collectionID.png)\n"
   ]
  },
  {
   "cell_type": "code",
   "execution_count": 2,
   "metadata": {},
   "outputs": [
    {
     "name": "stdout",
     "output_type": "stream",
     "text": [
      "Available collections: \n",
      "\n",
      "MEaSUREs Annual Antarctic Ice Velocity Maps V001\n",
      "Short name: MEaSUREs Antarctic Annual Velocity\n",
      "\n",
      "MEaSUREs Greenland Quarterly Ice Sheet Velocity Mosaics from SAR and Landsat V005\n",
      "Short name: MEaSUREs Greenland Quarterly Velocity\n",
      "\n",
      "MEaSUREs Greenland Monthly Ice Sheet Velocity Mosaics from SAR and Landsat, Version 5\n",
      "Short name: MEaSUREs Greenland Monthly Velocity\n",
      "\n",
      "ATLAS/ICESat-2 L3B Gridded Antarctic and Arctic Land Ice Height, Version 2\n",
      "Short name: ATL14 Antarctic Elevation\n",
      "\n",
      "ATLAS/ICESat-2 L3B Gridded Antarctic and Arctic Land Ice Height Change, Version 2\n",
      "Short name: ATL15 Antarctic Elevation\n",
      "\n",
      "ATLAS/ICESat-2 L3A Sea Ice Freeboard V006\n",
      "Short name: ATL10 Sea Ice Freeboard\n",
      "\n"
     ]
    }
   ],
   "source": [
    "# Print collections in the database (collection.py)\n",
    "collection.print_collections()"
   ]
  },
  {
   "attachments": {},
   "cell_type": "markdown",
   "metadata": {},
   "source": [
    "SET collection key and region name"
   ]
  },
  {
   "cell_type": "code",
   "execution_count": 3,
   "metadata": {},
   "outputs": [
    {
     "name": "stdout",
     "output_type": "stream",
     "text": [
      "Collection ID:  C2627046644-NSIDC_ECS\n"
     ]
    }
   ],
   "source": [
    "collection_key = 'MEaSUREs Greenland Monthly Velocity'\n",
    "region_name = 'Greenland'       # 'Antarctica' or 'Greenland'\n",
    "data_type = 'velocity'          # 'velocity' or 'elevation'\n",
    "\n",
    "collection_id = collection.collection(collection_key)\n",
    "print('Collection ID: ', collection_id)"
   ]
  },
  {
   "attachments": {},
   "cell_type": "markdown",
   "metadata": {},
   "source": [
    "Next, define two directories on your local drive as follows:\n",
    "\n",
    "| directory | purpose | \n",
    "|-----------|---------|\n",
    "|`project_folder` | This is the path where output data from the changes module will be stored - the data to be used directly for analysis. | \n",
    "|`data_folder` | This is the path where ice velocity and elevation data, from their respective sources, will be stored. The data_folder option was created to facilitate data storage on external drives. |"
   ]
  },
  {
   "cell_type": "code",
   "execution_count": 4,
   "metadata": {},
   "outputs": [],
   "source": [
    "project_folder = '/Users/tara/Documents/SJSU/MLML/Projects/CHANGES/Examples'\n",
    "data_folder='/Volumes/Seagate/CHANGES/data_repository/tutorial'"
   ]
  },
  {
   "attachments": {},
   "cell_type": "markdown",
   "metadata": {},
   "source": [
    "Initialize the AntarcticCHANGES object - this object will contain all pertinent information to initialize the data grids in your region of interest."
   ]
  },
  {
   "cell_type": "code",
   "execution_count": 5,
   "metadata": {},
   "outputs": [],
   "source": [
    "GC = changes.GreenlandCHANGES(project_folder, data_folder) "
   ]
  },
  {
   "cell_type": "code",
   "execution_count": 6,
   "metadata": {},
   "outputs": [
    {
     "name": "stdout",
     "output_type": "stream",
     "text": [
      "Metadata path:\t /Users/tara/Documents/SJSU/MLML/Projects/CHANGES/Examples/Metadata\n",
      "Icesheet name:\t Greenland\n",
      "Posting:\t 50 km\n",
      "EPSG:\t\t 3413\n",
      "Collection ID:  C2627046644-NSIDC_ECS\n",
      "Collection long name:\t MEaSUREs Greenland Monthly Ice Sheet Velocity Mosaics from SAR and Landsat, Version 5\n",
      "Collection short name:\t MEaSUREs Greenland Monthly Velocity\n",
      "Data type:\t\t Velocity\n",
      "Download path:\t\t /Volumes/Seagate/CHANGES/data_repository/tutorial/Greenland/Velocity/MEaSUREs Greenland Monthly Velocity/Data\n"
     ]
    }
   ],
   "source": [
    "GC.print_attributes()\n",
    "GC.collection_info(collection_key)"
   ]
  },
  {
   "attachments": {},
   "cell_type": "markdown",
   "metadata": {},
   "source": [
    "## Obtain list of available files for download"
   ]
  },
  {
   "cell_type": "code",
   "execution_count": 7,
   "metadata": {},
   "outputs": [
    {
     "name": "stdout",
     "output_type": "stream",
     "text": [
      "CMR request URL:  https://cmr.earthdata.nasa.gov/search/granules.json?echo_collection_id=C2627046644-NSIDC_ECS&page_size=2000\n",
      "Successfully obtained 1920 URLs.\n"
     ]
    }
   ],
   "source": [
    "# Build and call the CMR API URL\n",
    "cmr_query_url = 'https://cmr.earthdata.nasa.gov/search/granules.json?echo_collection_id=' + GC.collection_id + '&page_size=2000'\n",
    "print('CMR request URL: ', cmr_query_url)\n",
    "\n",
    "urls = download.get_response(cmr_query_url)"
   ]
  },
  {
   "cell_type": "code",
   "execution_count": 8,
   "metadata": {},
   "outputs": [
    {
     "name": "stdout",
     "output_type": "stream",
     "text": [
      "https://n5eil01u.ecs.nsidc.org/DP4/MEASURES/NSIDC-0731.005/2014.12.01/GL_vel_mosaic_Monthly_01Dec14_31Dec14_LS_v05.0.dbf\n"
     ]
    }
   ],
   "source": [
    "print(urls[5])"
   ]
  },
  {
   "cell_type": "code",
   "execution_count": 9,
   "metadata": {},
   "outputs": [
    {
     "name": "stdout",
     "output_type": "stream",
     "text": [
      "CSV file written to /Users/tara/Documents/SJSU/MLML/Projects/CHANGES/Examples/Metadata/MEaSUREs Greenland Monthly Velocity.csv\n"
     ]
    }
   ],
   "source": [
    "# Get only .nc files and also store the file names in a seperate list\n",
    "file_links = []\n",
    "file_names = []\n",
    "metadata = []\n",
    "for url in urls:\n",
    "    if '.nc'in url and not 'xml' in url:\n",
    "        file_links.append(url)\n",
    "        url_parts = url.split('/')\n",
    "        file_name = url_parts[-1]\n",
    "        file_names.append(file_name)\n",
    "\n",
    "download.write_to_csv(GC, file_names, file_links)"
   ]
  },
  {
   "attachments": {},
   "cell_type": "markdown",
   "metadata": {},
   "source": [
    "## Download the data"
   ]
  },
  {
   "cell_type": "code",
   "execution_count": 10,
   "metadata": {},
   "outputs": [
    {
     "name": "stdout",
     "output_type": "stream",
     "text": [
      "Processing 1920 folders\n",
      "    Downloading GL_vel_mosaic_Monthly_01Apr15_30Apr15_dT_v05.0.tif\n",
      "    Downloading GL_vel_mosaic_Monthly_01Apr15_30Apr15_ex_v05.0.tif\n",
      "    Downloading GL_vel_mosaic_Monthly_01Apr15_30Apr15_ey_v05.0.tif\n",
      "    Downloading GL_vel_mosaic_Monthly_01Apr15_30Apr15_vv_v05.0.tif\n",
      "    Downloading GL_vel_mosaic_Monthly_01Apr15_30Apr15_vx_v05.0.tif\n",
      "    Downloading GL_vel_mosaic_Monthly_01Apr15_30Apr15_vy_v05.0.tif\n",
      "6 files downloaded successfully.\n",
      "All files downloaded successfully.\n"
     ]
    }
   ],
   "source": [
    "not_downloaded = download.run_download_measures_monthly_files(GC, urls)"
   ]
  }
 ],
 "metadata": {
  "kernelspec": {
   "display_name": "changes",
   "language": "python",
   "name": "python3"
  },
  "language_info": {
   "codemirror_mode": {
    "name": "ipython",
    "version": 3
   },
   "file_extension": ".py",
   "mimetype": "text/x-python",
   "name": "python",
   "nbconvert_exporter": "python",
   "pygments_lexer": "ipython3",
   "version": "3.11.3"
  },
  "orig_nbformat": 4
 },
 "nbformat": 4,
 "nbformat_minor": 2
}
