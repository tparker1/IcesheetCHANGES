{
 "cells": [
  {
   "attachments": {},
   "cell_type": "markdown",
   "metadata": {},
   "source": [
    "# Download MEaSUREs Greenland Quarterly Ice Sheet Velocity Mosaics from SAR and Landsat V005\n",
    "\n",
    "Short Name/Collection Key: Greenland Quarterly Velocity\n",
    "\n",
    "Collection ID: C2627036252-NSIDC_ECS\n",
    "\n",
    "Sources:\n",
    "\n",
    "https://nsidc.org/data/nsidc-0727/versions/5\n",
    "\n",
    "https://search.earthdata.nasa.gov/search?q=NSIDC-0727%20V005"
   ]
  },
  {
   "cell_type": "code",
   "execution_count": 13,
   "metadata": {},
   "outputs": [],
   "source": [
    "import toolbox.IcesheetCHANGES as changes\n",
    "import toolbox.collection as collection\n",
    "import toolbox.download as download"
   ]
  },
  {
   "cell_type": "code",
   "execution_count": 14,
   "metadata": {},
   "outputs": [
    {
     "name": "stdout",
     "output_type": "stream",
     "text": [
      "Available collections: \n",
      "\n",
      "MEaSUREs Annual Antarctic Ice Velocity Maps V001\n",
      "Short name: MEaSUREs Antarctic Annual Velocity\n",
      "\n",
      "MEaSUREs Greenland Quarterly Ice Sheet Velocity Mosaics from SAR and Landsat V005\n",
      "Short name: MEaSUREs Greenland Quarterly Velocity\n",
      "\n",
      "MEaSUREs Greenland Monthly Ice Sheet Velocity Mosaics from SAR and Landsat, Version 5\n",
      "Short name: MEaSUREs Greenland Monthly Velocity\n",
      "\n",
      "ATLAS/ICESat-2 L3B Gridded Antarctic and Arctic Land Ice Height, Version 2\n",
      "Short name: ATL14 Antarctic Elevation\n",
      "\n",
      "ATLAS/ICESat-2 L3B Gridded Antarctic and Arctic Land Ice Height Change, Version 2\n",
      "Short name: ATL15 Antarctic Elevation\n",
      "\n",
      "ATLAS/ICESat-2 L3A Sea Ice Freeboard V006\n",
      "Short name: ATL10 Sea Ice Freeboard\n",
      "\n"
     ]
    }
   ],
   "source": [
    "# Print collections in the database (collection.py)\n",
    "collection.print_collections()"
   ]
  },
  {
   "attachments": {},
   "cell_type": "markdown",
   "metadata": {},
   "source": [
    "SET collection key and region name"
   ]
  },
  {
   "cell_type": "code",
   "execution_count": 15,
   "metadata": {},
   "outputs": [],
   "source": [
    "collection_key = 'MEaSUREs Greenland Quarterly Velocity'\n",
    "region_name = 'Greenland'   # 'Greenland' or 'Antarctica'\n",
    "data_type = 'velocity'      # 'velocity' or 'elevation'"
   ]
  },
  {
   "cell_type": "code",
   "execution_count": 16,
   "metadata": {},
   "outputs": [
    {
     "name": "stdout",
     "output_type": "stream",
     "text": [
      "Collection ID:  C2627036252-NSIDC_ECS\n"
     ]
    }
   ],
   "source": [
    "collection_id = collection.collection(collection_key)\n",
    "print('Collection ID: ', collection_id)"
   ]
  },
  {
   "attachments": {},
   "cell_type": "markdown",
   "metadata": {},
   "source": [
    "Next, define two directories on your local drive as follows:\n",
    "\n",
    "| directory | purpose | \n",
    "|-----------|---------|\n",
    "|`project_folder` | This is the path where output data from the changes module will be stored - the data to be used directly for analysis. | \n",
    "|`data_folder` | This is the path where ice velocity and elevation data, from their respective sources, will be stored. The data_folder option was created to facilitate data storage on external drives. |"
   ]
  },
  {
   "cell_type": "code",
   "execution_count": 17,
   "metadata": {},
   "outputs": [],
   "source": [
    "project_folder = '/Users/tara/Documents/SJSU/MLML/Projects/CHANGES/Examples'\n",
    "data_folder='/Volumes/Seagate/CHANGES/data_repository/tutorial'"
   ]
  },
  {
   "attachments": {},
   "cell_type": "markdown",
   "metadata": {},
   "source": [
    "Initialize the AntarcticCHANGES object - this object will contain all pertinent information to initialize the data grids in your region of interest."
   ]
  },
  {
   "cell_type": "code",
   "execution_count": 6,
   "metadata": {},
   "outputs": [],
   "source": [
    "GC = changes.GreenlandCHANGES(project_folder, data_folder) "
   ]
  },
  {
   "cell_type": "code",
   "execution_count": 18,
   "metadata": {},
   "outputs": [
    {
     "name": "stdout",
     "output_type": "stream",
     "text": [
      "Metadata path:\t /Users/tara/Documents/SJSU/MLML/Projects/CHANGES/Examples/Metadata\n",
      "Icesheet name:\t Greenland\n",
      "Posting:\t 50 km\n",
      "EPSG:\t\t 3413\n",
      "Collection ID:  C2627036252-NSIDC_ECS\n",
      "Collection long name:\t MEaSUREs Greenland Quarterly Ice Sheet Velocity Mosaics from SAR and Landsat V005\n",
      "Collection short name:\t MEaSUREs Greenland Quarterly Velocity\n",
      "Data type:\t\t Velocity\n",
      "Download path:\t\t /Volumes/Seagate/CHANGES/data_repository/tutorial/Greenland/Velocity/MEaSUREs Greenland Quarterly Velocity/Data\n"
     ]
    }
   ],
   "source": [
    "GC.print_attributes()\n",
    "GC.collection_info(collection_key)"
   ]
  },
  {
   "attachments": {},
   "cell_type": "markdown",
   "metadata": {},
   "source": [
    "Set verbose output to true or false"
   ]
  },
  {
   "attachments": {},
   "cell_type": "markdown",
   "metadata": {},
   "source": [
    "## Obtain list of available files for download"
   ]
  },
  {
   "cell_type": "code",
   "execution_count": 10,
   "metadata": {},
   "outputs": [],
   "source": [
    "# this function is from the ICESat2 data page\n",
    "def cmr_filter_nested_urls(search_results):\n",
    "    \"\"\"Select only the desired data files from CMR response.\"\"\"\n",
    "    if 'feed' not in search_results or 'entry' not in search_results['feed']:\n",
    "        return []\n",
    "\n",
    "    all_urls = []\n",
    "    for e in search_results['feed']['entry']:\n",
    "        granule_id = e['producer_granule_id']\n",
    "        if verbose:\n",
    "            print(granule_id)\n",
    "        urls = []\n",
    "        # TODO can generalize this with an if statement for use with non-nested data, ie. measures_antarctic_annual\n",
    "        urls.append(granule_id)\n",
    "        for link in e['links']:\n",
    "            if 'href' not in link:\n",
    "                # Exclude links with nothing to download\n",
    "                continue    # continue jumps to next iteration in the loop\n",
    "            if 'inherited' in link and link['inherited'] is True:\n",
    "                # Why are we excluding these links?\n",
    "                continue\n",
    "            if 'rel' in link and 'data#' not in link['rel']:\n",
    "                # Exclude links which are not classified by CMR as \"data\" or \"metadata\"\n",
    "                continue\n",
    "            if 'title' in link and 'opendap' in link['title'].lower():\n",
    "                # Exclude OPeNDAP links--they are responsible for many duplicates\n",
    "                # This is a hack; when the metadata is updated to properly identify\n",
    "                # non-datapool links, we should be able to do this in a non-hack way\n",
    "                continue\n",
    "            urls.append(link['href'])\n",
    "        all_urls.append(urls)\n",
    "\n",
    "    return all_urls"
   ]
  },
  {
   "cell_type": "code",
   "execution_count": 21,
   "metadata": {},
   "outputs": [
    {
     "name": "stdout",
     "output_type": "stream",
     "text": [
      "CMR request URL:  https://cmr.earthdata.nasa.gov/search/granules.json?echo_collection_id=C2627036252-NSIDC_ECS&page_size=2000\n",
      "Successfully obtained 640 URLs.\n"
     ]
    }
   ],
   "source": [
    "# Build and call the CMR API URL\n",
    "cmr_query_url = 'https://cmr.earthdata.nasa.gov/search/granules.json?echo_collection_id=' + GC.collection_id + '&page_size=2000'\n",
    "print('CMR request URL: ', cmr_query_url)\n",
    "\n",
    "urls = download.get_response(cmr_query_url)"
   ]
  },
  {
   "attachments": {},
   "cell_type": "markdown",
   "metadata": {},
   "source": [
    "## Download the data"
   ]
  },
  {
   "cell_type": "code",
   "execution_count": 25,
   "metadata": {},
   "outputs": [
    {
     "name": "stdout",
     "output_type": "stream",
     "text": [
      "Processing 640 folders\n",
      "    Downloading GL_vel_mosaic_Quarterly_01Dec14_28Feb15_dT_v05.0.tif\n",
      "    Downloading GL_vel_mosaic_Quarterly_01Dec14_28Feb15_ex_v05.0.tif\n",
      "    Downloading GL_vel_mosaic_Quarterly_01Dec14_28Feb15_ey_v05.0.tif\n",
      "    Downloading GL_vel_mosaic_Quarterly_01Dec14_28Feb15_vv_v05.0.tif\n",
      "    Downloading GL_vel_mosaic_Quarterly_01Dec14_28Feb15_vx_v05.0.tif\n",
      "    Downloading GL_vel_mosaic_Quarterly_01Dec14_28Feb15_vy_v05.0.tif\n",
      "6 files downloaded successfully.\n",
      "All files downloaded successfully.\n"
     ]
    },
    {
     "data": {
      "text/plain": [
       "[]"
      ]
     },
     "execution_count": 25,
     "metadata": {},
     "output_type": "execute_result"
    }
   ],
   "source": [
    "download.run_download_measures_monthly_files(GC, urls)"
   ]
  }
 ],
 "metadata": {
  "kernelspec": {
   "display_name": "base",
   "language": "python",
   "name": "python3"
  },
  "language_info": {
   "codemirror_mode": {
    "name": "ipython",
    "version": 3
   },
   "file_extension": ".py",
   "mimetype": "text/x-python",
   "name": "python",
   "nbconvert_exporter": "python",
   "pygments_lexer": "ipython3",
   "version": "3.11.3"
  },
  "orig_nbformat": 4
 },
 "nbformat": 4,
 "nbformat_minor": 2
}
